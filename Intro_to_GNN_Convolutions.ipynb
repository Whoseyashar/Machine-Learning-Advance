{
  "nbformat": 4,
  "nbformat_minor": 0,
  "metadata": {
    "colab": {
      "provenance": [],
      "include_colab_link": true
    },
    "kernelspec": {
      "name": "python3",
      "display_name": "Python 3"
    },
    "language_info": {
      "name": "python"
    }
  },
  "cells": [
    {
      "cell_type": "markdown",
      "metadata": {
        "id": "view-in-github",
        "colab_type": "text"
      },
      "source": [
        "<a href=\"https://colab.research.google.com/github/Whoseyashar/Machine-Learning-Advance/blob/main/Intro_to_GNN_Convolutions.ipynb\" target=\"_parent\"><img src=\"https://colab.research.google.com/assets/colab-badge.svg\" alt=\"Open In Colab\"/></a>"
      ]
    },
    {
      "cell_type": "markdown",
      "source": [
        "If we look at the GNN layer from the previous examples, the problem lies in the fact that we don’t take into account difference in the number of neighbors. Our layer consists of a simple sum without any normalization coefficients."
      ],
      "metadata": {
        "id": "oALcC-aAtZCV"
      }
    },
    {
      "cell_type": "markdown",
      "source": [
        "The Graph Convolutional Network (GCN) architecture is the blueprint of what a GNN looks like. Introduced by Kipf and Welling in 2017, it is based on the idea of creating an efficient variant of Convolutional Neural Networks (CNNs) applied to graphs. More accurately, it is an approximation of a graph convolution operation in graph signal processing. Thanks to its versatility and ease of use, the GCN has become the most popular GNN in scientific literature. More generally, it is the architecture of choice to create a solid baseline when dealing with graph data."
      ],
      "metadata": {
        "id": "Ad-jt8g7rtYm"
      }
    },
    {
      "cell_type": "markdown",
      "source": [
        "Reminder: This is how we calculate embedding of node $i$ without taking any optimisation into account:\n",
        "\n",
        "$h_{i}=\\sum_{j\\epsilon N_{i}}^{} x_{j}W^{T}$\n",
        "\n",
        "Where $N_{i}$ is the set of nodes that represent neighbourhud of node $i$, while $W$ is a global weight matrix."
      ],
      "metadata": {
        "id": "Wyga9-9YudEo"
      }
    },
    {
      "cell_type": "markdown",
      "source": [
        "How are we supposed to make meaningful comparisons when values of nodes are so vastly different (some node has one some thousands of connected nodes)?\n",
        "\n",
        "Fortunately, there is a simple solution: dividing the embedding by the number of neighbors. By definition $D$ matrix can give us a degree of each node. Therefore the inverse of this matrix is $\\tilde{D}^{-1}$, which directly give us the normalisation coeficient $\\frac{1}{deg(i)}$ to fit into our previous formula:\n",
        "\n",
        "$h_{i}=\\frac{1}{\\sqrt{deg(i))}}\\sum_{j\\epsilon N_{i}}^{} x_{j}W^{T}$\n",
        "\n",
        "Where $deg(i)$ is a degree of node $i$.\n",
        "\n",
        "Noticed that features from nodes with a lot of neighbors would spread very easily, unlike features from more isolated nodes. In the original GCN paper, the authors proposed a hybrid normalization to counterbalance this effect. In practice, they assign higher weights to nodes with few neighbors.\n",
        "\n",
        "But first notice that in Vanilla matrix multiplication we had:\n",
        "\n",
        "$H = \\tilde{A} X W^{T}$\n",
        "\n",
        "Where $\\tilde{A} = A + I$ (reminder: $I$ is identity matrix and $A$ is adjacency)\n",
        "\n",
        "Now only thing we miss is normalisation degree coeficient.\n",
        "\n",
        "$H = \\tilde{D}^{-\\frac{1}{2}}\\tilde{A}^{T} \\tilde{D}^{-\\frac{1}{2}} X W^{T}$\n",
        "\n",
        "In terms of each individual embedding, the previous matrix multiplication operation can be written as:\n",
        "\n",
        "\n",
        "$h_{i}=\\sum_{j\\epsilon N_{i}}^{} \\frac{1}{\\sqrt{deg(i)} \\sqrt{deg(j)}} x_{j}W^{T}$"
      ],
      "metadata": {
        "id": "yblkVsVdxLHw"
      }
    },
    {
      "cell_type": "markdown",
      "source": [
        "Let's try to study transformations of the formulas through the implementation"
      ],
      "metadata": {
        "id": "ZcNmKspcuRXs"
      }
    },
    {
      "cell_type": "code",
      "source": [
        "import numpy as np\n",
        "D = np.array([\n",
        "    [3, 0, 0, 0],\n",
        "    [0, 1, 0, 0],\n",
        "    [0, 0, 2, 0],\n",
        "    [0, 0, 0, 2]\n",
        "]) # degree matrix\n",
        "\n",
        "np.linalg.inv(D) # The inverse of a matrix\n",
        "\n",
        "np.linalg.inv(D + np.identity(4))\n",
        "\n",
        "A = np.array([\n",
        "    [1, 1, 1, 1],\n",
        "    [1, 1, 0, 0],\n",
        "    [1, 0, 1, 1],\n",
        "    [1, 0, 1, 1]\n",
        "])\n",
        "print(np.linalg.inv(D + np.identity(4)) @ A)\n",
        "\n",
        "print(A @ np.linalg.inv(D + np.identity(4)))"
      ],
      "metadata": {
        "id": "Ib00031hsu7P",
        "colab": {
          "base_uri": "https://localhost:8080/"
        },
        "outputId": "4cfa0abc-984e-4757-af84-55e371130933"
      },
      "execution_count": 1,
      "outputs": [
        {
          "output_type": "stream",
          "name": "stdout",
          "text": [
            "[[0.25       0.25       0.25       0.25      ]\n",
            " [0.5        0.5        0.         0.        ]\n",
            " [0.33333333 0.         0.33333333 0.33333333]\n",
            " [0.33333333 0.         0.33333333 0.33333333]]\n",
            "[[0.25       0.5        0.33333333 0.33333333]\n",
            " [0.25       0.5        0.         0.        ]\n",
            " [0.25       0.         0.33333333 0.33333333]\n",
            " [0.25       0.         0.33333333 0.33333333]]\n"
          ]
        }
      ]
    },
    {
      "cell_type": "markdown",
      "source": [
        "In the previous exercises, vanilla GNN outperformed the Node2Vec model, but how does it compare to a GCN? In this exercises, we will compare their performance on the Cora and Facebook Page-Page datasets.\n",
        "\n",
        "Compared to the vanilla GNN, the main feature of the GCN is that it considers node degrees to weigh its features. During implementation, analyze the node degrees in both datasets. This information is relevant since it is directly linked to the performance of the GCN.\n",
        "\n",
        "We will study the same dataset as before, but this time, we will visualise node degree."
      ],
      "metadata": {
        "id": "5H9HymjR3Xaj"
      }
    },
    {
      "cell_type": "code",
      "source": [
        "!pip install torch_geometric\n",
        "from torch_geometric.datasets import Planetoid, FacebookPagePage\n",
        "from torch_geometric.utils import degree\n",
        "from torch_geometric.transforms import RandomNodeSplit\n",
        "from collections import Counter\n",
        "import matplotlib.pyplot as plt\n",
        "\n",
        "dataset_cora = Planetoid(root=\"./datasets\", name=\"Cora\")\n",
        "data_cora = dataset_cora[0]\n",
        "print(data_cora)\n",
        "\n",
        "degrees_cora = degree(data_cora.edge_index[0]).numpy()\n",
        "print(degrees_cora)\n",
        "\n",
        "numbers_cora = Counter(degrees_cora)\n",
        "print(numbers_cora)\n",
        "\n",
        "fig, ax = plt.subplots()\n",
        "ax.set_xlabel('Node degree Cora')\n",
        "ax.set_ylabel('Number of nodes Cora')\n",
        "plt.bar(numbers_cora.keys(), numbers_cora.values())\n",
        "plt.show()\n",
        "\n",
        "dataset_facebook = FacebookPagePage(root=\"./datasets\", transform=RandomNodeSplit(num_val=0.1, num_test=0.1))\n",
        "\n",
        "data_facebook = dataset_facebook[0]\n",
        "print(data_facebook)\n",
        "\n",
        "degrees_facebook = degree(data_facebook.edge_index[0]).numpy()\n",
        "print(degrees_facebook)\n",
        "\n",
        "numbers_facebook = Counter(degrees_facebook)\n",
        "print(numbers_facebook)\n",
        "\n",
        "fig, ax = plt.subplots()\n",
        "ax.set_xlabel('Node degree Facebook')\n",
        "ax.set_ylabel('Number of nodes Facebook')\n",
        "plt.bar(numbers_facebook.keys(), numbers_facebook.values())\n",
        "plt.show()"
      ],
      "metadata": {
        "id": "nfEUnj4-32VR",
        "colab": {
          "base_uri": "https://localhost:8080/",
          "height": 1000
        },
        "outputId": "ac61897d-260d-4fe5-ff04-19facc442306"
      },
      "execution_count": 2,
      "outputs": [
        {
          "output_type": "stream",
          "name": "stdout",
          "text": [
            "Collecting torch_geometric\n",
            "  Downloading torch_geometric-2.6.1-py3-none-any.whl.metadata (63 kB)\n",
            "\u001b[?25l     \u001b[90m━━━━━━━━━━━━━━━━━━━━━━━━━━━━━━━━━━━━━━━━\u001b[0m \u001b[32m0.0/63.1 kB\u001b[0m \u001b[31m?\u001b[0m eta \u001b[36m-:--:--\u001b[0m\r\u001b[2K     \u001b[91m━━━━━━━━━━━━━━━━━━━━━━━━━━━━━━━━━━━━━━\u001b[0m\u001b[91m╸\u001b[0m\u001b[90m━\u001b[0m \u001b[32m61.4/63.1 kB\u001b[0m \u001b[31m3.1 MB/s\u001b[0m eta \u001b[36m0:00:01\u001b[0m\r\u001b[2K     \u001b[90m━━━━━━━━━━━━━━━━━━━━━━━━━━━━━━━━━━━━━━━━\u001b[0m \u001b[32m63.1/63.1 kB\u001b[0m \u001b[31m918.7 kB/s\u001b[0m eta \u001b[36m0:00:00\u001b[0m\n",
            "\u001b[?25hRequirement already satisfied: aiohttp in /usr/local/lib/python3.10/dist-packages (from torch_geometric) (3.10.8)\n",
            "Requirement already satisfied: fsspec in /usr/local/lib/python3.10/dist-packages (from torch_geometric) (2024.6.1)\n",
            "Requirement already satisfied: jinja2 in /usr/local/lib/python3.10/dist-packages (from torch_geometric) (3.1.4)\n",
            "Requirement already satisfied: numpy in /usr/local/lib/python3.10/dist-packages (from torch_geometric) (1.26.4)\n",
            "Requirement already satisfied: psutil>=5.8.0 in /usr/local/lib/python3.10/dist-packages (from torch_geometric) (5.9.5)\n",
            "Requirement already satisfied: pyparsing in /usr/local/lib/python3.10/dist-packages (from torch_geometric) (3.1.4)\n",
            "Requirement already satisfied: requests in /usr/local/lib/python3.10/dist-packages (from torch_geometric) (2.32.3)\n",
            "Requirement already satisfied: tqdm in /usr/local/lib/python3.10/dist-packages (from torch_geometric) (4.66.5)\n",
            "Requirement already satisfied: aiohappyeyeballs>=2.3.0 in /usr/local/lib/python3.10/dist-packages (from aiohttp->torch_geometric) (2.4.3)\n",
            "Requirement already satisfied: aiosignal>=1.1.2 in /usr/local/lib/python3.10/dist-packages (from aiohttp->torch_geometric) (1.3.1)\n",
            "Requirement already satisfied: attrs>=17.3.0 in /usr/local/lib/python3.10/dist-packages (from aiohttp->torch_geometric) (24.2.0)\n",
            "Requirement already satisfied: frozenlist>=1.1.1 in /usr/local/lib/python3.10/dist-packages (from aiohttp->torch_geometric) (1.4.1)\n",
            "Requirement already satisfied: multidict<7.0,>=4.5 in /usr/local/lib/python3.10/dist-packages (from aiohttp->torch_geometric) (6.1.0)\n",
            "Requirement already satisfied: yarl<2.0,>=1.12.0 in /usr/local/lib/python3.10/dist-packages (from aiohttp->torch_geometric) (1.13.1)\n",
            "Requirement already satisfied: async-timeout<5.0,>=4.0 in /usr/local/lib/python3.10/dist-packages (from aiohttp->torch_geometric) (4.0.3)\n",
            "Requirement already satisfied: MarkupSafe>=2.0 in /usr/local/lib/python3.10/dist-packages (from jinja2->torch_geometric) (2.1.5)\n",
            "Requirement already satisfied: charset-normalizer<4,>=2 in /usr/local/lib/python3.10/dist-packages (from requests->torch_geometric) (3.3.2)\n",
            "Requirement already satisfied: idna<4,>=2.5 in /usr/local/lib/python3.10/dist-packages (from requests->torch_geometric) (3.10)\n",
            "Requirement already satisfied: urllib3<3,>=1.21.1 in /usr/local/lib/python3.10/dist-packages (from requests->torch_geometric) (2.2.3)\n",
            "Requirement already satisfied: certifi>=2017.4.17 in /usr/local/lib/python3.10/dist-packages (from requests->torch_geometric) (2024.8.30)\n",
            "Requirement already satisfied: typing-extensions>=4.1.0 in /usr/local/lib/python3.10/dist-packages (from multidict<7.0,>=4.5->aiohttp->torch_geometric) (4.12.2)\n",
            "Downloading torch_geometric-2.6.1-py3-none-any.whl (1.1 MB)\n",
            "\u001b[2K   \u001b[90m━━━━━━━━━━━━━━━━━━━━━━━━━━━━━━━━━━━━━━━━\u001b[0m \u001b[32m1.1/1.1 MB\u001b[0m \u001b[31m12.1 MB/s\u001b[0m eta \u001b[36m0:00:00\u001b[0m\n",
            "\u001b[?25hInstalling collected packages: torch_geometric\n",
            "Successfully installed torch_geometric-2.6.1\n"
          ]
        },
        {
          "output_type": "stream",
          "name": "stderr",
          "text": [
            "Downloading https://github.com/kimiyoung/planetoid/raw/master/data/ind.cora.x\n",
            "Downloading https://github.com/kimiyoung/planetoid/raw/master/data/ind.cora.tx\n",
            "Downloading https://github.com/kimiyoung/planetoid/raw/master/data/ind.cora.allx\n",
            "Downloading https://github.com/kimiyoung/planetoid/raw/master/data/ind.cora.y\n",
            "Downloading https://github.com/kimiyoung/planetoid/raw/master/data/ind.cora.ty\n",
            "Downloading https://github.com/kimiyoung/planetoid/raw/master/data/ind.cora.ally\n",
            "Downloading https://github.com/kimiyoung/planetoid/raw/master/data/ind.cora.graph\n",
            "Downloading https://github.com/kimiyoung/planetoid/raw/master/data/ind.cora.test.index\n",
            "Processing...\n",
            "Done!\n"
          ]
        },
        {
          "output_type": "stream",
          "name": "stdout",
          "text": [
            "Data(x=[2708, 1433], edge_index=[2, 10556], y=[2708], train_mask=[2708], val_mask=[2708], test_mask=[2708])\n",
            "[3. 3. 5. ... 1. 4. 4.]\n",
            "Counter({2.0: 583, 3.0: 553, 1.0: 485, 4.0: 389, 5.0: 281, 6.0: 131, 7.0: 82, 8.0: 57, 10.0: 26, 9.0: 25, 12.0: 18, 11.0: 14, 17.0: 8, 16.0: 7, 14.0: 6, 15.0: 6, 19.0: 5, 13.0: 5, 21.0: 3, 18.0: 3, 23.0: 3, 32.0: 2, 30.0: 2, 36.0: 1, 78.0: 1, 33.0: 1, 29.0: 1, 34.0: 1, 26.0: 1, 168.0: 1, 22.0: 1, 42.0: 1, 74.0: 1, 44.0: 1, 31.0: 1, 65.0: 1, 40.0: 1})\n"
          ]
        },
        {
          "output_type": "display_data",
          "data": {
            "text/plain": [
              "<Figure size 640x480 with 1 Axes>"
            ],
            "image/png": "[encoded data removed]"
          },
          "metadata": {}
        },
        {
          "output_type": "stream",
          "name": "stderr",
          "text": [
            "Downloading https://graphmining.ai/datasets/ptg/facebook.npz\n",
            "Processing...\n",
            "Done!\n"
          ]
        },
        {
          "output_type": "stream",
          "name": "stdout",
          "text": [
            "Data(x=[22470, 128], edge_index=[2, 342004], y=[22470], train_mask=[22470], val_mask=[22470], test_mask=[22470])\n",
            "[ 1. 34. 12. ... 17.  2.  7.]\n",
            "Counter({1.0: 2658, 2.0: 2307, 3.0: 1843, 4.0: 1516, 5.0: 1359, 6.0: 1114, 7.0: 974, 8.0: 811, 9.0: 731, 10.0: 618, 11.0: 555, 12.0: 494, 13.0: 452, 14.0: 391, 15.0: 380, 17.0: 348, 16.0: 333, 18.0: 316, 19.0: 265, 20.0: 264, 21.0: 233, 22.0: 227, 23.0: 213, 25.0: 200, 24.0: 193, 26.0: 192, 29.0: 151, 27.0: 149, 28.0: 145, 31.0: 132, 33.0: 130, 30.0: 127, 32.0: 112, 35.0: 107, 36.0: 107, 34.0: 102, 37.0: 89, 38.0: 85, 43.0: 76, 40.0: 74, 42.0: 70, 39.0: 70, 44.0: 69, 41.0: 67, 45.0: 59, 51.0: 54, 53.0: 53, 48.0: 52, 47.0: 51, 46.0: 49, 50.0: 48, 49.0: 45, 62.0: 41, 59.0: 38, 60.0: 37, 57.0: 37, 55.0: 36, 56.0: 36, 52.0: 35, 54.0: 34, 61.0: 33, 69.0: 32, 67.0: 29, 58.0: 27, 64.0: 27, 68.0: 25, 65.0: 22, 66.0: 21, 71.0: 20, 70.0: 19, 73.0: 19, 63.0: 19, 76.0: 19, 74.0: 19, 83.0: 18, 75.0: 16, 72.0: 15, 94.0: 13, 78.0: 13, 77.0: 13, 87.0: 13, 90.0: 13, 99.0: 13, 81.0: 12, 88.0: 12, 86.0: 12, 80.0: 11, 105.0: 11, 112.0: 11, 79.0: 10, 89.0: 10, 104.0: 10, 92.0: 9, 84.0: 9, 93.0: 8, 97.0: 8, 106.0: 8, 82.0: 8, 85.0: 8, 101.0: 8, 96.0: 7, 121.0: 7, 107.0: 7, 116.0: 7, 91.0: 7, 120.0: 7, 114.0: 6, 117.0: 5, 102.0: 5, 122.0: 5, 108.0: 5, 100.0: 5, 138.0: 5, 109.0: 5, 142.0: 4, 110.0: 4, 115.0: 4, 141.0: 4, 95.0: 4, 125.0: 4, 113.0: 4, 145.0: 4, 148.0: 4, 134.0: 3, 133.0: 3, 111.0: 3, 177.0: 3, 135.0: 3, 98.0: 3, 127.0: 3, 118.0: 3, 201.0: 3, 132.0: 3, 144.0: 3, 156.0: 3, 103.0: 3, 140.0: 3, 129.0: 3, 155.0: 3, 222.0: 3, 146.0: 3, 123.0: 3, 143.0: 3, 131.0: 3, 119.0: 3, 174.0: 2, 229.0: 2, 226.0: 2, 139.0: 2, 275.0: 2, 126.0: 2, 181.0: 2, 214.0: 2, 193.0: 2, 182.0: 2, 257.0: 2, 124.0: 2, 199.0: 2, 330.0: 2, 183.0: 2, 147.0: 2, 167.0: 2, 288.0: 2, 236.0: 2, 188.0: 2, 151.0: 1, 244.0: 1, 380.0: 1, 153.0: 1, 233.0: 1, 150.0: 1, 504.0: 1, 260.0: 1, 408.0: 1, 203.0: 1, 137.0: 1, 166.0: 1, 216.0: 1, 240.0: 1, 333.0: 1, 149.0: 1, 196.0: 1, 225.0: 1, 162.0: 1, 178.0: 1, 387.0: 1, 169.0: 1, 351.0: 1, 136.0: 1, 171.0: 1, 191.0: 1, 290.0: 1, 338.0: 1, 364.0: 1, 168.0: 1, 212.0: 1, 468.0: 1, 370.0: 1, 341.0: 1, 158.0: 1, 256.0: 1, 328.0: 1, 194.0: 1, 172.0: 1, 157.0: 1, 234.0: 1, 650.0: 1, 326.0: 1, 375.0: 1, 298.0: 1, 163.0: 1, 266.0: 1, 709.0: 1, 237.0: 1, 220.0: 1, 170.0: 1, 218.0: 1, 152.0: 1, 217.0: 1, 296.0: 1, 280.0: 1, 448.0: 1, 185.0: 1, 678.0: 1, 189.0: 1, 128.0: 1, 241.0: 1, 320.0: 1, 417.0: 1, 224.0: 1, 195.0: 1, 659.0: 1, 205.0: 1})\n"
          ]
        },
        {
          "output_type": "display_data",
          "data": {
            "text/plain": [
              "<Figure size 640x480 with 1 Axes>"
            ],
            "image/png": "[encoded data removed]"
          },
          "metadata": {}
        }
      ]
    },
    {
      "cell_type": "markdown",
      "source": [
        "This distribution looks exponential with a heavy tail: it ranges from 1 neighbor (485 nodes) to 168 neighbors (1 node)! This is exactly the kind of dataset where we want a normalization process to consider this disbalance.\n",
        "\n",
        "The same works for FaceBook dataset. This distribution of node degrees looks even more skewed, with a number of neighbors that ranges from 1 to 709. For the same reason, the Facebook Page-Page dataset is also a good case in which to apply a GCN.\n",
        "\n",
        "Let's now try to implement GNC architecture. We could build our own graph layer but, conveniently enough, PyTorch Geometric already has a predefined GCN layer."
      ],
      "metadata": {
        "id": "AUtfLKBG339Q"
      }
    },
    {
      "cell_type": "code",
      "source": [
        "import torch\n",
        "import torch.nn.functional as F\n",
        "from torch_geometric.nn import GCNConv\n",
        "\n",
        "\n",
        "def accuracy(pred_y, y):\n",
        "    return ((pred_y == y).sum() / len(y)).item()\n",
        "\n",
        "\n",
        "class GCN(torch.nn.Module):\n",
        "    \"\"\"Graph Convolutional Network\"\"\"\n",
        "\n",
        "    def __init__(self, dim_in, dim_h, dim_out):\n",
        "        super().__init__()\n",
        "        self.gcn1 = GCNConv(dim_in, dim_h)\n",
        "        self.gcn2 = GCNConv(dim_h, dim_out)\n",
        "\n",
        "    def forward(self, x, edge_index):\n",
        "        h = self.gcn1(x, edge_index)\n",
        "        h = torch.relu(h)\n",
        "        h = self.gcn2(h, edge_index)\n",
        "        return F.log_softmax(h, dim=1)\n",
        "\n",
        "    def fit(self, data, epochs):\n",
        "        criterion = torch.nn.CrossEntropyLoss()\n",
        "        optimizer = torch.optim.Adam(self.parameters(),\n",
        "                                     lr=0.01,\n",
        "                                     weight_decay=5e-4)\n",
        "        self.train()\n",
        "        for epoch in range(epochs + 1):\n",
        "            optimizer.zero_grad()\n",
        "            out = self(data.x, data.edge_index)\n",
        "            loss = criterion(out[data.train_mask], data.y[data.train_mask])\n",
        "            acc = accuracy(out[data.train_mask].argmax(dim=1), data.y[data.train_mask])\n",
        "            loss.backward()\n",
        "            optimizer.step()\n",
        "            if (epoch % 20 == 0):\n",
        "                val_loss = criterion(out[data.val_mask], data.y[data.val_mask])\n",
        "                val_acc = accuracy(out[data.val_mask].argmax(dim=1), data.y[data.val_mask])\n",
        "                print(\n",
        "                    f'Epoch {epoch:>3} | Train Loss: {loss:.3f} | Train Acc: {acc * 100:>5.2f}% | Val Loss: {val_loss:.2f} | Val Acc: {val_acc * 100:.2f}%')\n",
        "\n",
        "    @torch.no_grad()\n",
        "    def test(self, data):\n",
        "        self.eval()\n",
        "        out = self(data.x, data.edge_index)\n",
        "        acc = accuracy(out.argmax(dim=1)[data.test_mask], data.y[data.test_mask])\n",
        "        return acc\n",
        "\n",
        "\n",
        "gcn_cora = GCN(dataset_cora.num_features, 16, dataset_cora.num_classes)\n",
        "print(gcn_cora)\n",
        "gcn_cora.fit(data_cora, epochs=100)\n",
        "\n",
        "acc_cora = gcn_cora.test(data_cora)\n",
        "print(f'GCN test accuracy Cora: {acc_cora * 100:.2f}%')\n",
        "\n",
        "gcn_facebook = GCN(dataset_facebook.num_features, 16, dataset_facebook.num_classes)\n",
        "print(gcn_facebook)\n",
        "gcn_facebook.fit(data_facebook, epochs=100)\n",
        "\n",
        "acc_facebook = gcn_facebook.test(data_facebook)\n",
        "print(f'GCN test accuracy Facebook: {acc_facebook * 100:.2f}%')"
      ],
      "metadata": {
        "id": "mkdmwIB2t-Sw",
        "colab": {
          "base_uri": "https://localhost:8080/"
        },
        "outputId": "9a0acbf0-1f9b-4e53-d81d-4a16d67b2e2e"
      },
      "execution_count": 3,
      "outputs": [
        {
          "output_type": "stream",
          "name": "stdout",
          "text": [
            "GCN(\n",
            "  (gcn1): GCNConv(1433, 16)\n",
            "  (gcn2): GCNConv(16, 7)\n",
            ")\n",
            "Epoch   0 | Train Loss: 1.955 | Train Acc: 15.00% | Val Loss: 1.93 | Val Acc: 16.60%\n",
            "Epoch  20 | Train Loss: 0.132 | Train Acc: 100.00% | Val Loss: 0.78 | Val Acc: 75.80%\n",
            "Epoch  40 | Train Loss: 0.017 | Train Acc: 100.00% | Val Loss: 0.72 | Val Acc: 76.80%\n",
            "Epoch  60 | Train Loss: 0.015 | Train Acc: 100.00% | Val Loss: 0.70 | Val Acc: 77.00%\n",
            "Epoch  80 | Train Loss: 0.018 | Train Acc: 100.00% | Val Loss: 0.70 | Val Acc: 77.20%\n",
            "Epoch 100 | Train Loss: 0.017 | Train Acc: 100.00% | Val Loss: 0.70 | Val Acc: 77.40%\n",
            "GCN test accuracy Cora: 80.10%\n",
            "GCN(\n",
            "  (gcn1): GCNConv(128, 16)\n",
            "  (gcn2): GCNConv(16, 4)\n",
            ")\n",
            "Epoch   0 | Train Loss: 1.535 | Train Acc: 24.98% | Val Loss: 1.54 | Val Acc: 24.97%\n",
            "Epoch  20 | Train Loss: 0.472 | Train Acc: 84.60% | Val Loss: 0.47 | Val Acc: 84.65%\n",
            "Epoch  40 | Train Loss: 0.328 | Train Acc: 89.35% | Val Loss: 0.34 | Val Acc: 88.92%\n",
            "Epoch  60 | Train Loss: 0.283 | Train Acc: 91.02% | Val Loss: 0.31 | Val Acc: 90.30%\n",
            "Epoch  80 | Train Loss: 0.259 | Train Acc: 91.99% | Val Loss: 0.29 | Val Acc: 90.74%\n",
            "Epoch 100 | Train Loss: 0.242 | Train Acc: 92.67% | Val Loss: 0.28 | Val Acc: 91.41%\n",
            "GCN test accuracy Facebook: 91.86%\n"
          ]
        }
      ]
    },
    {
      "cell_type": "markdown",
      "source": [
        "We can attribute better scores of GCN to the wide range of node degrees in these two datasets. By normalizing features and considering the number of neighbors of the central node and its own neighbors, the GCN gains a lot of flexibility and can work well with various types of graphs."
      ],
      "metadata": {
        "id": "fy0IGaFy3sTE"
      }
    }
  ]
}